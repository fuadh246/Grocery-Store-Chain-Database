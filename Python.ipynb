{
 "cells": [
  {
   "cell_type": "code",
   "execution_count": 9,
   "metadata": {},
   "outputs": [
    {
     "name": "stdout",
     "output_type": "stream",
     "text": [
      "insert into SHOPPING_GS (CustomerID, StoreID) values (1,3);\n",
      "insert into SHOPPING_GS (CustomerID, StoreID) values (2,1);\n",
      "insert into SHOPPING_GS (CustomerID, StoreID) values (3,2);\n",
      "insert into SHOPPING_GS (CustomerID, StoreID) values (4,1);\n",
      "insert into SHOPPING_GS (CustomerID, StoreID) values (5,1);\n",
      "insert into SHOPPING_GS (CustomerID, StoreID) values (6,3);\n",
      "insert into SHOPPING_GS (CustomerID, StoreID) values (7,2);\n",
      "insert into SHOPPING_GS (CustomerID, StoreID) values (8,3);\n",
      "insert into SHOPPING_GS (CustomerID, StoreID) values (9,2);\n",
      "insert into SHOPPING_GS (CustomerID, StoreID) values (10,2);\n",
      "insert into SHOPPING_GS (CustomerID, StoreID) values (11,3);\n",
      "insert into SHOPPING_GS (CustomerID, StoreID) values (12,1);\n",
      "insert into SHOPPING_GS (CustomerID, StoreID) values (13,3);\n",
      "insert into SHOPPING_GS (CustomerID, StoreID) values (14,2);\n",
      "insert into SHOPPING_GS (CustomerID, StoreID) values (15,1);\n",
      "insert into SHOPPING_GS (CustomerID, StoreID) values (16,1);\n",
      "insert into SHOPPING_GS (CustomerID, StoreID) values (17,2);\n",
      "insert into SHOPPING_GS (CustomerID, StoreID) values (18,1);\n",
      "insert into SHOPPING_GS (CustomerID, StoreID) values (19,1);\n",
      "insert into SHOPPING_GS (CustomerID, StoreID) values (20,3);\n",
      "insert into SHOPPING_GS (CustomerID, StoreID) values (21,3);\n",
      "insert into SHOPPING_GS (CustomerID, StoreID) values (22,1);\n",
      "insert into SHOPPING_GS (CustomerID, StoreID) values (23,3);\n",
      "insert into SHOPPING_GS (CustomerID, StoreID) values (24,1);\n",
      "insert into SHOPPING_GS (CustomerID, StoreID) values (25,2);\n",
      "insert into SHOPPING_GS (CustomerID, StoreID) values (26,2);\n",
      "insert into SHOPPING_GS (CustomerID, StoreID) values (27,3);\n",
      "insert into SHOPPING_GS (CustomerID, StoreID) values (28,3);\n",
      "insert into SHOPPING_GS (CustomerID, StoreID) values (29,2);\n",
      "insert into SHOPPING_GS (CustomerID, StoreID) values (30,3);\n",
      "insert into SHOPPING_GS (CustomerID, StoreID) values (31,1);\n",
      "insert into SHOPPING_GS (CustomerID, StoreID) values (32,2);\n",
      "insert into SHOPPING_GS (CustomerID, StoreID) values (33,2);\n",
      "insert into SHOPPING_GS (CustomerID, StoreID) values (34,2);\n",
      "insert into SHOPPING_GS (CustomerID, StoreID) values (35,3);\n",
      "insert into SHOPPING_GS (CustomerID, StoreID) values (36,2);\n",
      "insert into SHOPPING_GS (CustomerID, StoreID) values (37,1);\n",
      "insert into SHOPPING_GS (CustomerID, StoreID) values (38,1);\n",
      "insert into SHOPPING_GS (CustomerID, StoreID) values (39,2);\n",
      "insert into SHOPPING_GS (CustomerID, StoreID) values (40,2);\n",
      "insert into SHOPPING_GS (CustomerID, StoreID) values (41,2);\n",
      "insert into SHOPPING_GS (CustomerID, StoreID) values (42,2);\n",
      "insert into SHOPPING_GS (CustomerID, StoreID) values (43,2);\n",
      "insert into SHOPPING_GS (CustomerID, StoreID) values (44,3);\n",
      "insert into SHOPPING_GS (CustomerID, StoreID) values (45,2);\n",
      "insert into SHOPPING_GS (CustomerID, StoreID) values (46,2);\n",
      "insert into SHOPPING_GS (CustomerID, StoreID) values (47,2);\n",
      "insert into SHOPPING_GS (CustomerID, StoreID) values (48,2);\n",
      "insert into SHOPPING_GS (CustomerID, StoreID) values (49,3);\n",
      "insert into SHOPPING_GS (CustomerID, StoreID) values (50,2);\n",
      "insert into SHOPPING_GS (CustomerID, StoreID) values (51,1);\n",
      "insert into SHOPPING_GS (CustomerID, StoreID) values (52,1);\n",
      "insert into SHOPPING_GS (CustomerID, StoreID) values (53,3);\n",
      "insert into SHOPPING_GS (CustomerID, StoreID) values (54,1);\n"
     ]
    }
   ],
   "source": [
    "import random\n",
    "import pandas as pd\n",
    "data = pd.DataFrame()\n",
    "customer_ids = []\n",
    "store_ids = []\n",
    "employee_ids = []\n",
    "\n",
    "for i in range(1,55):\n",
    "    random_store = random.randint(1, 3)\n",
    "    random_emp = random.random()"
   ]
  },
  {
   "cell_type": "code",
   "execution_count": null,
   "metadata": {},
   "outputs": [],
   "source": []
  }
 ],
 "metadata": {
  "kernelspec": {
   "display_name": "Python 3",
   "language": "python",
   "name": "python3"
  },
  "language_info": {
   "codemirror_mode": {
    "name": "ipython",
    "version": 3
   },
   "file_extension": ".py",
   "mimetype": "text/x-python",
   "name": "python",
   "nbconvert_exporter": "python",
   "pygments_lexer": "ipython3",
   "version": "3.10.13"
  }
 },
 "nbformat": 4,
 "nbformat_minor": 2
}
